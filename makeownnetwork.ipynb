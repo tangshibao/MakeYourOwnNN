{
 "cells": [
  {
   "cell_type": "code",
   "execution_count": 2,
   "metadata": {
    "collapsed": true
   },
   "outputs": [
    {
     "data": {
      "text/plain": "<matplotlib.image.AxesImage at 0x187934ef970>"
     },
     "execution_count": 2,
     "metadata": {},
     "output_type": "execute_result"
    },
    {
     "data": {
      "text/plain": "<Figure size 640x480 with 1 Axes>",
      "image/png": "[encoded data removed]"
     },
     "metadata": {},
     "output_type": "display_data"
    }
   ],
   "source": [
    "import numpy\n",
    "a = numpy.zeros([3,2])\n",
    "a[0,0] = 1\n",
    "a[0,1] = 2\n",
    "a[1,0] = 9\n",
    "a[2,1] = 12\n",
    "import matplotlib.pyplot\n",
    "%matplotlib inline\n",
    "matplotlib.pyplot.imshow(a, interpolation=\"nearest\") # 同样的值显示同样的颜色"
   ]
  },
  {
   "cell_type": "code",
   "execution_count": 51,
   "outputs": [],
   "source": [
    "# 此cell定义神经网络和评估方法\n",
    "import scipy.special\n",
    "class neuralNetwork:\n",
    "    def __init__(self,inputnodes, hiddennodes,outputnodes,learningrate):\n",
    "        self.inodes = inputnodes\n",
    "        self.hnodes = hiddennodes\n",
    "        self.onodes = outputnodes\n",
    "        self.lr = learningrate\n",
    "        # 输出层到隐藏层的权重矩阵\n",
    "        # self.wih = (numpy.random.rand(self.hnodes,self.inodes) - 0.5)\n",
    "        # 隐藏层到输出层的权重矩阵\n",
    "        # self.who = (numpy.random.rand(self.onodes,self.hnodes) - 0.5)\n",
    "        self.wih = numpy.random.normal(0.0, pow(self.inodes, -0.5), (self.hnodes, self.inodes))\n",
    "        self.who = numpy.random.normal(0.0, pow(self.hnodes, -0.5), (self.onodes, self.hnodes))\n",
    "        self.active_function = lambda x: scipy.special.expit(x)\n",
    "\n",
    "    # train做两件事，第一件事是计算，跟query中的无异，第二部分是反向传递误差，更新权重\n",
    "    def train(self, inputs_list, targets_list):\n",
    "        inputs = numpy.array(inputs_list, ndmin = 2).T\n",
    "        # 目标输出列表\n",
    "        targets = numpy.array(targets_list, ndmin = 2).T\n",
    "\n",
    "        hidden_inputs = numpy.dot(self.wih, inputs)\n",
    "        hidden_outputs = self.active_function(hidden_inputs)\n",
    "\n",
    "        final_inputs = numpy.dot(self.who, hidden_outputs)\n",
    "\n",
    "        final_outputs = self.active_function(final_inputs)\n",
    "\n",
    "        output_errors = targets - final_outputs # 结果误差\n",
    "        hidden_errors = numpy.dot(self.who.T, output_errors) # 输入层各个误差\n",
    "        # 误差纠正（结点权重调整）\n",
    "        self.who += self.lr * numpy.dot((output_errors * final_outputs * (1.0 - final_outputs)), numpy.transpose(hidden_outputs))\n",
    "        self.wih += self.lr * numpy.dot((hidden_errors * hidden_outputs * (1.0 - hidden_outputs)), numpy.transpose(inputs))\n",
    "\n",
    "\n",
    "\n",
    "    # input_list 为一个输如列表\n",
    "    def query(self, inputs_list):\n",
    "        # 转置输入矩阵\n",
    "        inputs = numpy.array(inputs_list, ndmin = 2).T\n",
    "        # 权重矩阵 . 输入矩阵等于隐藏层的输入\n",
    "        hidden_inputs = numpy.dot(self.wih, inputs)\n",
    "        # 输出层的输出是激活函数 作用于隐藏层的输入上\n",
    "        hidden_outputs = self.active_function(hidden_inputs)\n",
    "\n",
    "        final_inputs = numpy.dot(self.who, hidden_outputs)\n",
    "\n",
    "        final_outputs = self.active_function(final_inputs)\n",
    "        return final_outputs # 将最终的谁出层的输出返回\n",
    "\n",
    "# 评估函数 ,传入评估函数\n",
    "def evaluate(test_data_list, network):\n",
    "    scorecard = []\n",
    "    for record in test_data_list:\n",
    "        all_values = record.split(\",\") # 分割得到列表\n",
    "        target_result = int(all_values[0]) # 正确答案是第一个 ，这里需要转换为int，否则在下面的 == 处不成立\n",
    "        pred_list = network.query((numpy.asfarray(all_values[1:]) / 255.0 * 0.99) + 0.01)\n",
    "        # print(f\"列表{pred_list}\")\n",
    "        pred_result = numpy.argmax(pred_list) # 取得结果最大的下标\n",
    "        if (pred_result == target_result):\n",
    "            scorecard.append(1)\n",
    "        else:\n",
    "            scorecard.append(0)\n",
    "    score_array = numpy.asarray(scorecard)\n",
    "    # print(score_array)\n",
    "    return score_array.sum() / score_array.size\n",
    "\n",
    "\n",
    "\n"
   ],
   "metadata": {
    "collapsed": false,
    "pycharm": {
     "name": "#%%\n"
    }
   }
  },
  {
   "cell_type": "code",
   "execution_count": 53,
   "outputs": [
    {
     "name": "stdout",
     "output_type": "stream",
     "text": [
      "[1 1 1 ... 1 1 1]\n"
     ]
    },
    {
     "data": {
      "text/plain": "0.942"
     },
     "execution_count": 53,
     "metadata": {},
     "output_type": "execute_result"
    }
   ],
   "source": [
    "# 显示每一行对应的数字图像\n",
    "# all_values = data_list[2].split(\",\")\n",
    "# 图像array：做成numpy数组，这个数组从第二个数字开始截断，重塑成28 * 28的二维数组\n",
    "# image_array = numpy.asfarray(all_values[1:]).reshape((28,28))\n",
    "# matplotlib.pyplot.imshow(image_array, cmap=\"Greys\", interpolation=\"None\") # 同样的值显示同样的颜色\n",
    "\n",
    "# 创建一个神经网络以测试代码的正确性\n",
    "input_nodes = 784\n",
    "hidden_nodes = 100\n",
    "output_nodes = 10\n",
    "learning_rate = 0.3\n",
    "# 创建一个神经网络\n",
    "n = neuralNetwork(input_nodes,hidden_nodes,output_nodes,learning_rate)\n",
    "# 读取训练文件\n",
    "data_file = open(\"dataset/mnist_train_60000.csv\",\"r\")\n",
    "train_data_list = data_file.readlines()\n",
    "data_file.close()\n",
    "\n",
    "# 训练网络\n",
    "epoch = 1 # 训练五代\n",
    "for i in range(epoch):\n",
    "    for record in train_data_list:\n",
    "        all_values = record.split(\",\") # 用，分割参数\n",
    "        # 输入节点有28 * 28\n",
    "        inputs = (numpy.asfarray(all_values[1:]) / 255.0 * 0.99) + 0.01\n",
    "        # 目标输出，目标输出只有十个结点\n",
    "        targets = numpy.zeros(output_nodes) + 0.01 # 初始化全部为0.01\n",
    "        targets[int(all_values[0])] = 0.99 # 正确答案为0.99\n",
    "        n.train(inputs,targets)\n",
    "\n",
    "# 预测结果\n",
    "data_file = open(\"dataset/mnist_test_10000.csv\",\"r\")\n",
    "test_data_list = data_file.readlines()\n",
    "data_file.close()\n",
    "# all_values = test_data_list[6].split(\",\")\n",
    "# image_array = numpy.asfarray(all_values[1:]).reshape((28,28))\n",
    "# matplotlib.pyplot.imshow(image_array, cmap=\"Greys\", interpolation=\"None\") # 同样的值显示同样的颜色\n",
    "# pred_list = n.query((numpy.asfarray(all_values[1:]) / 255.0 * 0.99) + 0.01)\n",
    "# print(f'预测数字：{numpy.argmax(pred_list)}')\n",
    "\n",
    "evaluate(test_data_list, n)\n",
    "\n"
   ],
   "metadata": {
    "collapsed": false,
    "pycharm": {
     "name": "#%%\n"
    }
   }
  }
 ],
 "metadata": {
  "kernelspec": {
   "display_name": "Python 3",
   "language": "python",
   "name": "python3"
  },
  "language_info": {
   "codemirror_mode": {
    "name": "ipython",
    "version": 2
   },
   "file_extension": ".py",
   "mimetype": "text/x-python",
   "name": "python",
   "nbconvert_exporter": "python",
   "pygments_lexer": "ipython2",
   "version": "2.7.6"
  }
 },
 "nbformat": 4,
 "nbformat_minor": 0
}